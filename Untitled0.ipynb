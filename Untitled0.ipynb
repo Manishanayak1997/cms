{
  "nbformat": 4,
  "nbformat_minor": 0,
  "metadata": {
    "colab": {
      "name": "Untitled0.ipynb",
      "provenance": [],
      "authorship_tag": "ABX9TyNmtyvkKHuA+l0tOuZse77u",
      "include_colab_link": true
    },
    "kernelspec": {
      "name": "python3",
      "display_name": "Python 3"
    },
    "language_info": {
      "name": "python"
    }
  },
  "cells": [
    {
      "cell_type": "markdown",
      "metadata": {
        "id": "view-in-github",
        "colab_type": "text"
      },
      "source": [
        "<a href=\"https://colab.research.google.com/github/Manishanayak1997/cms/blob/main/Untitled0.ipynb\" target=\"_parent\"><img src=\"https://colab.research.google.com/assets/colab-badge.svg\" alt=\"Open In Colab\"/></a>"
      ]
    },
    {
      "cell_type": "code",
      "metadata": {
        "colab": {
          "base_uri": "https://localhost:8080/"
        },
        "id": "1n6T_I_TNsSs",
        "outputId": "ef182b9d-8a53-4d26-aa8b-c1fd2f6724fb"
      },
      "source": [
        "print(type(8))\n",
        "print(type(8.0))\n",
        "print(type(\"manisha\"))\n",
        "\n",
        "x, y = 10, 5\n",
        "print(x, y)\n",
        "\n",
        "x, y = y, x\n",
        "print(x, y)"
      ],
      "execution_count": 2,
      "outputs": [
        {
          "output_type": "stream",
          "text": [
            "<class 'int'>\n",
            "<class 'float'>\n",
            "<class 'str'>\n",
            "10 5\n",
            "5 10\n"
          ],
          "name": "stdout"
        }
      ]
    },
    {
      "cell_type": "code",
      "metadata": {
        "colab": {
          "base_uri": "https://localhost:8080/"
        },
        "id": "w5CUpD57Nuyd",
        "outputId": "cb7c4035-1f0b-4881-8e92-3a3e669c07b3"
      },
      "source": [
        "print(type(8))\n",
        "print(type(8.0))\n",
        "\n",
        "x, y = 10, 5\n",
        "print(x, y)\n",
        "\n",
        "x, y = y, x\n",
        "print(x, y)\n",
        "b,a=30, 5\n",
        "mod = b % a\n",
        "print(mod)\n",
        "d,a=80,8\n",
        "# // returns integer division result\n",
        "intDiv = d / a\n",
        "# / returns float division result\n",
        "div = d / a\n",
        "print(div, intDiv)\n"
      ],
      "execution_count": 6,
      "outputs": [
        {
          "output_type": "stream",
          "text": [
            "<class 'int'>\n",
            "<class 'float'>\n",
            "10 5\n",
            "5 10\n",
            "0\n",
            "10.0 10.0\n"
          ],
          "name": "stdout"
        }
      ]
    },
    {
      "cell_type": "code",
      "metadata": {
        "colab": {
          "base_uri": "https://localhost:8080/"
        },
        "id": "pBCL-Tq2OZVw",
        "outputId": "ede51f21-354f-4526-f54c-d7d8361db5a5"
      },
      "source": [
        "num = 68\n",
        "print(num * 3)\n",
        "print(num)\n",
        "\n",
        "num *= 3\n",
        "print(num)\n",
        "\n",
        "#Naming Convension\n",
        "#snake_case\n",
        "snake_case = 20\n",
        "\n",
        "#for constants\n",
        "CAPITAL_SNAKE_CASE, PI = 100, 3.14159603\n",
        "#for class\n",
        "class UpperCamelCase:\n",
        "    pass\n",
        "\n",
        "#dunders ('d'ouble 'unders'cores) means something u shouldn't touch"
      ],
      "execution_count": 8,
      "outputs": [
        {
          "output_type": "stream",
          "text": [
            "204\n",
            "68\n",
            "204\n"
          ],
          "name": "stdout"
        }
      ]
    },
    {
      "cell_type": "code",
      "metadata": {
        "colab": {
          "base_uri": "https://localhost:8080/"
        },
        "id": "Nlfe8dmYPklj",
        "outputId": "0b5b3e80-8b87-4158-ded1-4d5251a08fce"
      },
      "source": [
        "#bool\n",
        "is_active = True\n",
        "inactive = not is_active\n",
        "print(is_active)\n",
        "print(not is_active)\n",
        "print(inactive)\n",
        "print(not inactive)\n",
        "\n",
        "#str\n",
        "some_string = \"I am Manisha Nayak\"\n",
        "print(some_string)\n",
        "\n",
        "#list\n",
        "my_number = [13,18,49,20]\n",
        "print(my_number)\n",
        "print(my_number[2])\n",
        "\n",
        "#dict\n",
        "my_name = {'first_name': \"Manisha\", 'last_name': \"Nayak\"}\n",
        "print(my_name)\n",
        "print(my_name['first_name'])\n",
        "print(my_name['last_name'])\n"
      ],
      "execution_count": 14,
      "outputs": [
        {
          "output_type": "stream",
          "text": [
            "True\n",
            "False\n",
            "False\n",
            "True\n",
            "I am Manisha Nayak\n",
            "[13, 18, 49, 20]\n",
            "49\n",
            "{'first_name': 'Manisha', 'last_name': 'Nayak'}\n",
            "Manisha\n",
            "Nayak\n"
          ],
          "name": "stdout"
        }
      ]
    },
    {
      "cell_type": "code",
      "metadata": {
        "colab": {
          "base_uri": "https://localhost:8080/"
        },
        "id": "Kl1EdgNZRX7J",
        "outputId": "33d37c17-a508-47cc-afa9-bc7f39223e1e"
      },
      "source": [
        "game_over = True\n",
        "print(game_over)\n",
        "\n",
        "game_over = \"Yes, it's over!\"\n",
        "print(game_over)\n",
        "\n",
        "game_over = 22/7\n",
        "print(game_over)\n",
        "\n",
        "#None is nothing\n",
        "game_over = None\n",
        "print(game_over)\n",
        "print(type(game_over))\n"
      ],
      "execution_count": 15,
      "outputs": [
        {
          "output_type": "stream",
          "text": [
            "True\n",
            "Yes, it's over!\n",
            "3.142857142857143\n",
            "None\n",
            "<class 'NoneType'>\n"
          ],
          "name": "stdout"
        }
      ]
    },
    {
      "cell_type": "code",
      "metadata": {
        "id": "lhafjtEmTx-e"
      },
      "source": [
        ""
      ],
      "execution_count": null,
      "outputs": []
    }
  ]
}